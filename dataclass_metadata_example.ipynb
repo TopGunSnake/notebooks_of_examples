{
 "cells": [
  {
   "cell_type": "markdown",
   "metadata": {},
   "source": [
    "Python's `dataclasses` module provides a number of convenience operations to address a\n",
    "common use-case for classes: The Dataclass, a class that primarily represents data."
   ]
  },
  {
   "cell_type": "code",
   "execution_count": 26,
   "metadata": {},
   "outputs": [],
   "source": [
    "import dataclasses\n",
    "\n",
    "\n",
    "@dataclasses.dataclass\n",
    "class Position:\n",
    "    x: float\n",
    "    y: float\n",
    "    z: float\n"
   ]
  },
  {
   "cell_type": "markdown",
   "metadata": {},
   "source": [
    "Unlike `typing.NamedTuple`, `dataclasses.dataclass` is a decorator that adds relevant\n",
    "functions, instead of providing a base class.\n",
    "\n",
    "Each field marked with an annotation is considered a field by default. With the no-arg\n",
    "decorator, we get `__init__`, `__repr__`, `__eq__`, and a context aware adding of\n",
    "`__hash__` based on `__eq__` and whether the dataclass is immutable."
   ]
  },
  {
   "cell_type": "code",
   "execution_count": 27,
   "metadata": {},
   "outputs": [
    {
     "name": "stdout",
     "output_type": "stream",
     "text": [
      "Position(x=1.0, y=2.0, z=3.0)\n",
      "Position(x=1.0, y=2.0, z=3.0)\n",
      "A hash function of None since the position is mutable: None\n"
     ]
    },
    {
     "data": {
      "text/plain": [
       "True"
      ]
     },
     "execution_count": 27,
     "metadata": {},
     "output_type": "execute_result"
    }
   ],
   "source": [
    "pos = Position(1.0, 2.0, 3.0)\n",
    "print(repr(pos))\n",
    "print(str(pos))\n",
    "print(f\"A hash function of None since the position is mutable: {pos.__hash__}\")\n",
    "pos == Position(1.0, 2.0, 3.0)\n"
   ]
  },
  {
   "cell_type": "markdown",
   "metadata": {},
   "source": [
    "We can also \"freeze\" the definition, and make other changes to the `dataclasses.dataclass`\n",
    "decorator's actions by passing arguments."
   ]
  },
  {
   "cell_type": "code",
   "execution_count": 28,
   "metadata": {},
   "outputs": [
    {
     "name": "stdout",
     "output_type": "stream",
     "text": [
      "A hash function is available since `__eq__` and `frozen` are both True: -925386691174542831\n",
      "Player 1 is ranked higher than Player 2: True\n"
     ]
    }
   ],
   "source": [
    "@dataclasses.dataclass(frozen=True, order=True)\n",
    "class ImmutablePoints:\n",
    "    gold: int\n",
    "    silver: int\n",
    "    bronze: int\n",
    "\n",
    "\n",
    "player_1 = ImmutablePoints(gold=3, silver=2, bronze=1)\n",
    "player_2 = ImmutablePoints(gold=1, silver=20, bronze=3)\n",
    "\n",
    "print(\n",
    "    f\"A hash function is available since `__eq__` and `frozen` are both True: {hash(player_1)}\"\n",
    ")\n",
    "print(f\"Player 1 is ranked higher than Player 2: {player_1 > player_2}\")\n"
   ]
  },
  {
   "cell_type": "markdown",
   "metadata": {},
   "source": [
    "This setup also supports defaults for fields (and the default carries to the `__init__`),\n",
    "support for providing behavior after the default initialization via `__post_init__`, \n",
    "and a general `dataclasses.field` function to have finer control over field attributes."
   ]
  },
  {
   "cell_type": "code",
   "execution_count": 29,
   "metadata": {},
   "outputs": [],
   "source": [
    "@dataclasses.dataclass\n",
    "class ComplexExample:\n",
    "    # Normal, required field\n",
    "    x: int\n",
    "    # Normal, default field (NOTE: defaults must go last due to `__init__` behavior)\n",
    "    y: int = 10\n",
    "    # A default that isn't in the `__repr__`\n",
    "    z: int = dataclasses.field(repr=False, default=10)\n",
    "    # A default that evades the x = [] issue in Python\n",
    "    coords: list[int] = dataclasses.field(default_factory=list)\n",
    "    # A default that has arbitrary metadata\n",
    "    w: int = dataclasses.field(default=0, metadata={\"encoding\": \"<l\"})\n",
    "\n",
    "    def __post_init__(self):\n",
    "        \"\"\"Executes at the end of __init__\"\"\"\n",
    "        if not self.coords:\n",
    "            self.coords.append(self.x, self.y, self.z, self.w)\n"
   ]
  },
  {
   "cell_type": "markdown",
   "metadata": {},
   "source": [
    "The last case, `w`, uses the `metadata` parameter for `dataclasses.field`. This parameter\n",
    "takes a `typing.Mapping` or `None`, and the value passed in gets wrapped in `types.MappingProxyType`\n",
    "(making it read-only). This mapping can be accessed, along with other field metadata, by\n",
    "using the `dataclasses.fields` function on a class or instance. The function returns a \n",
    "tuple of `dataclasses.Field`."
   ]
  },
  {
   "cell_type": "code",
   "execution_count": 30,
   "metadata": {},
   "outputs": [
    {
     "data": {
      "text/plain": [
       "Field(name='w',type=<class 'int'>,default=0,default_factory=<dataclasses._MISSING_TYPE object at 0x000001ADC45A0550>,init=True,repr=True,hash=None,compare=True,metadata=mappingproxy({'encoding': '<l'}),kw_only=False,_field_type=_FIELD)"
      ]
     },
     "execution_count": 30,
     "metadata": {},
     "output_type": "execute_result"
    }
   ],
   "source": [
    "# Returns a tuple, so we index at 4 (order matches declaration in class)\n",
    "dataclasses.fields(ComplexExample)[4]\n"
   ]
  },
  {
   "cell_type": "markdown",
   "metadata": {},
   "source": [
    "The contents returned can be inspected and used. We are interested primarily in the `name`\n",
    "and `metadata` fields."
   ]
  },
  {
   "cell_type": "code",
   "execution_count": 31,
   "metadata": {},
   "outputs": [
    {
     "name": "stdout",
     "output_type": "stream",
     "text": [
      "w is type <class 'int'> and provides metadata {'encoding': '<l'}.\n",
      "w has encoding '<l'\n"
     ]
    }
   ],
   "source": [
    "w_field = dataclasses.fields(ComplexExample)[4]\n",
    "print(\n",
    "    f\"{w_field.name} is type {w_field.type} and provides metadata {w_field.metadata}.\"\n",
    ")\n",
    "print(f\"{w_field.name} has encoding '{w_field.metadata.get('encoding')}'\")\n"
   ]
  },
  {
   "cell_type": "markdown",
   "metadata": {},
   "source": [
    "Since this `metadata` is guaranteed to be there, we can utilize it to facilitate behavior\n",
    "similar to `typing.Annotated` and bit/byte encoding."
   ]
  },
  {
   "cell_type": "code",
   "execution_count": 32,
   "metadata": {},
   "outputs": [
    {
     "data": {
      "text/plain": [
       "bytearray(b'\\x00\\x00\\x00\\x03')"
      ]
     },
     "execution_count": 32,
     "metadata": {},
     "output_type": "execute_result"
    }
   ],
   "source": [
    "import struct\n",
    "\n",
    "\n",
    "@dataclasses.dataclass\n",
    "class ByteEncodingExample:\n",
    "    x: int = dataclasses.field(default=0, metadata={\"encoding\": \">h\"})\n",
    "    y: int = dataclasses.field(default=1, metadata={\"encoding\": \">H\"})\n",
    "\n",
    "    def encode(self):\n",
    "        output = bytearray()\n",
    "        for field in dataclasses.fields(self):\n",
    "            value = getattr(self, field.name)\n",
    "            # Get encoding, raise if not available.\n",
    "            encoding = field.metadata[\"encoding\"]\n",
    "            output += struct.pack(encoding, value)\n",
    "        return output\n",
    "\n",
    "\n",
    "example = ByteEncodingExample(y=3)\n",
    "example.encode()\n"
   ]
  }
 ],
 "metadata": {
  "kernelspec": {
   "display_name": "Python 3.10.5 64-bit",
   "language": "python",
   "name": "python3"
  },
  "language_info": {
   "codemirror_mode": {
    "name": "ipython",
    "version": 3
   },
   "file_extension": ".py",
   "mimetype": "text/x-python",
   "name": "python",
   "nbconvert_exporter": "python",
   "pygments_lexer": "ipython3",
   "version": "3.10.5"
  },
  "orig_nbformat": 4,
  "vscode": {
   "interpreter": {
    "hash": "aee8a4ff72e707aaad2012f8707441f813e53678a1a2473275a514209e35cd0c"
   }
  }
 },
 "nbformat": 4,
 "nbformat_minor": 2
}
