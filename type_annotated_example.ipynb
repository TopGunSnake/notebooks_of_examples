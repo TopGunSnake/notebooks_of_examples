{
 "cells": [
  {
   "cell_type": "markdown",
   "metadata": {},
   "source": [
    "First we'll create an example helper type."
   ]
  },
  {
   "cell_type": "code",
   "execution_count": 220,
   "metadata": {},
   "outputs": [
    {
     "data": {
      "text/plain": [
       "'00101'"
      ]
     },
     "execution_count": 220,
     "metadata": {},
     "output_type": "execute_result"
    }
   ],
   "source": [
    "class BitEncoded:\n",
    "    \"\"\"Annotation Helper that tracks a bitwidth for an integer.\"\"\"\n",
    "\n",
    "    def __init__(self, bitwidth: int):\n",
    "        self.bitwidth = bitwidth\n",
    "\n",
    "    def encode(self, value: int) -> str:\n",
    "        \"\"\"Encodes the value as a signed integer of self.bitwidth size,\n",
    "        returning the binary representation as a string without the `0b` prefix.\n",
    "\n",
    "        Raises if the value is out of bounds\"\"\"\n",
    "        mask: int = 2**self.bitwidth - 1\n",
    "\n",
    "        lowbits = value & mask\n",
    "\n",
    "        return format(lowbits, \"0{width}b\".format(width=self.bitwidth))\n",
    "\n",
    "    def __repr__(self):\n",
    "        return f\"BitEncoded({self.bitwidth})\"\n",
    "\n",
    "\n",
    "# An example\n",
    "BitEncoded(bitwidth=5).encode(5)\n"
   ]
  },
  {
   "cell_type": "markdown",
   "metadata": {},
   "source": [
    "Next, we'll build a dataclass that uses the helper type."
   ]
  },
  {
   "cell_type": "code",
   "execution_count": 221,
   "metadata": {},
   "outputs": [],
   "source": [
    "import dataclasses\n",
    "import typing\n",
    "\n",
    "\n",
    "@dataclasses.dataclass\n",
    "class ExampleDataclass:\n",
    "    quantity: typing.Annotated[int, BitEncoded(3)] = 0\n",
    "    price: typing.Annotated[int, BitEncoded(20)] = 0\n"
   ]
  },
  {
   "cell_type": "markdown",
   "metadata": {},
   "source": [
    "Given the use of `typing.Annotated`, we can add metadata beyond the type that type-checker are concerned about.\n",
    "\n",
    "We can access this metadata using `typing.get_type_hints`. By default, this only gives the type-checker metadata, but we can pass a flag to trigger the rest."
   ]
  },
  {
   "cell_type": "code",
   "execution_count": 222,
   "metadata": {},
   "outputs": [
    {
     "data": {
      "text/plain": [
       "{'quantity': int, 'price': int}"
      ]
     },
     "execution_count": 222,
     "metadata": {},
     "output_type": "execute_result"
    }
   ],
   "source": [
    "typing.get_type_hints(ExampleDataclass())\n"
   ]
  },
  {
   "cell_type": "code",
   "execution_count": 223,
   "metadata": {},
   "outputs": [
    {
     "data": {
      "text/plain": [
       "{'quantity': typing.Annotated[int, BitEncoded(3)],\n",
       " 'price': typing.Annotated[int, BitEncoded(20)]}"
      ]
     },
     "execution_count": 223,
     "metadata": {},
     "output_type": "execute_result"
    }
   ],
   "source": [
    "typing.get_type_hints(ExampleDataclass(), include_extras=True)\n"
   ]
  },
  {
   "cell_type": "markdown",
   "metadata": {},
   "source": [
    "Now, we can use this metadata at runtime."
   ]
  },
  {
   "cell_type": "code",
   "execution_count": 224,
   "metadata": {},
   "outputs": [
    {
     "data": {
      "text/plain": [
       "BitEncoded(20)"
      ]
     },
     "execution_count": 224,
     "metadata": {},
     "output_type": "execute_result"
    }
   ],
   "source": [
    "data = ExampleDataclass(quantity=3, price=350)\n",
    "annotation_map = typing.get_type_hints(data, include_extras=True)\n",
    "typing.get_args(annotation_map[\"price\"])[1]\n"
   ]
  },
  {
   "cell_type": "code",
   "execution_count": 225,
   "metadata": {},
   "outputs": [
    {
     "data": {
      "text/plain": [
       "{'quantity': BitEncoded(3), 'price': BitEncoded(20)}"
      ]
     },
     "execution_count": 225,
     "metadata": {},
     "output_type": "execute_result"
    }
   ],
   "source": [
    "data = ExampleDataclass(quantity=3, price=350)\n",
    "encoders = {\n",
    "    field: item\n",
    "    for field, annotation in typing.get_type_hints(data, include_extras=True).items()\n",
    "    for item in list(typing.get_args(annotation))\n",
    "    if isinstance(item, BitEncoded)\n",
    "}\n",
    "encoders\n"
   ]
  },
  {
   "cell_type": "markdown",
   "metadata": {},
   "source": [
    "With this in mind, we can easily define a concept like a bit-encoded dataclass"
   ]
  },
  {
   "cell_type": "code",
   "execution_count": 226,
   "metadata": {},
   "outputs": [
    {
     "data": {
      "text/plain": [
       "'01100000000000101011110'"
      ]
     },
     "execution_count": 226,
     "metadata": {},
     "output_type": "execute_result"
    }
   ],
   "source": [
    "@dataclasses.dataclass\n",
    "class BitEncodedExample:\n",
    "    quantity: typing.Annotated[int, BitEncoded(3)]\n",
    "    price: typing.Annotated[int, BitEncoded(20)]\n",
    "\n",
    "    def encode(self) -> str:\n",
    "        \"\"\"Encodes this instance into a binary string.\"\"\"\n",
    "        output = \"\"\n",
    "        # Get the dataclass fields by name and value.\n",
    "        field_dict = {\n",
    "            field.name: getattr(self, field.name) for field in dataclasses.fields(self)\n",
    "        }\n",
    "\n",
    "        # Get the encoders by name of field and encoder\n",
    "        encoders = {\n",
    "            field: item\n",
    "            for field, annotation in typing.get_type_hints(\n",
    "                self, include_extras=True\n",
    "            ).items()\n",
    "            for item in list(typing.get_args(annotation))\n",
    "            if isinstance(item, BitEncoded) and field in field_dict.keys()\n",
    "        }\n",
    "\n",
    "        for name, encoder in encoders.items():\n",
    "            value = field_dict[name]\n",
    "            output += encoder.encode(value)\n",
    "\n",
    "        return output\n",
    "\n",
    "\n",
    "# Example\n",
    "data = BitEncodedExample(quantity=3, price=350)\n",
    "data.encode()\n"
   ]
  },
  {
   "cell_type": "markdown",
   "metadata": {},
   "source": [
    "Similar concepts can be used for byte-oriented data classes.\n",
    "\n",
    "Using `struct.Struct(format)` allows for format validation early (at class load), as\n",
    "well as simplifying the execution of the encoding function."
   ]
  },
  {
   "cell_type": "code",
   "execution_count": 227,
   "metadata": {},
   "outputs": [],
   "source": [
    "import struct\n",
    "\n",
    "\n",
    "@dataclasses.dataclass\n",
    "class ByteEncodedExample:\n",
    "    quantity: typing.Annotated[int, struct.Struct(\">h\")]\n",
    "    price: typing.Annotated[int, struct.Struct(\">l\")]\n",
    "\n",
    "    def encode(self) -> bytes:\n",
    "        \"\"\"Encodes this instance into a bytes stream per the encoding args.\n",
    "\n",
    "        Args are evaluated in declared order.\n",
    "        \"\"\"\n",
    "        field_dict = {\n",
    "            field.name: getattr(self, field.name) for field in dataclasses.fields(self)\n",
    "        }\n",
    "        # Unpack the EncodingArgs.args that align with the fields.\n",
    "        encodings = {\n",
    "            field: item\n",
    "            for field, annotation in typing.get_type_hints(\n",
    "                self, include_extras=True\n",
    "            ).items()\n",
    "            for item in list(typing.get_args(annotation))\n",
    "            if isinstance(item, struct.Struct) and field in field_dict.keys()\n",
    "        }\n",
    "\n",
    "        output = b\"\"\n",
    "        for name, encoding in encodings.items():\n",
    "            value = field_dict[name]\n",
    "            output += encoding.pack(value)\n",
    "        return output\n",
    "\n",
    "    @classmethod\n",
    "    def decode(cls, buffer: bytes) -> \"ByteEncodedExample\":\n",
    "        # Unpack with each piece.\n",
    "        construction_kwargs = {}\n",
    "        index = 0\n",
    "        for field, (name, annotation) in zip(dataclasses.fields(cls), typing.get_type_hints(cls, include_extras=True).items()):\n",
    "            # Get the first instance of `struct.Struct` in the annotation args.\n",
    "            struct_unpacker = next((x for x in list(typing.get_args(annotation)) if isinstance(x, struct.Struct)), None)\n",
    "            # Add a \"field\": value by unpacking from the buffer, grabbing the first item from the returned tuple.\n",
    "            construction_kwargs.update({field.name: struct_unpacker.unpack_from(buffer, offset=index)[0]})\n",
    "            index += struct_unpacker.size\n",
    "            # For demonstration\n",
    "            print(f\"Remaining data: {buffer[index:]}\")\n",
    "        \n",
    "        return ByteEncodedExample(**construction_kwargs)\n"
   ]
  },
  {
   "cell_type": "markdown",
   "metadata": {},
   "source": [
    "With this definition, the following block should give us:\n",
    "- The `quantity` as an unsigned short (2-bytes): `0x00_03`\n",
    "- The `price` as an unsigned long (4-bytes): `0x00_00_01_5e`"
   ]
  },
  {
   "cell_type": "code",
   "execution_count": 228,
   "metadata": {},
   "outputs": [
    {
     "data": {
      "text/plain": [
       "b'\\x00\\x03\\x00\\x00\\x01^'"
      ]
     },
     "execution_count": 228,
     "metadata": {},
     "output_type": "execute_result"
    }
   ],
   "source": [
    "# Example\n",
    "data = ByteEncodedExample(quantity=3, price=350)\n",
    "assert data.encode() == bytes.fromhex(\"0003 0000015e\")\n",
    "data.encode()\n"
   ]
  },
  {
   "cell_type": "markdown",
   "metadata": {},
   "source": [
    "And we can recover the instance from the data."
   ]
  },
  {
   "cell_type": "code",
   "execution_count": 229,
   "metadata": {},
   "outputs": [
    {
     "name": "stdout",
     "output_type": "stream",
     "text": [
      "Remaining data: b'\\x00\\x00\\x01^'\n",
      "Remaining data: b''\n"
     ]
    },
    {
     "data": {
      "text/plain": [
       "ByteEncodedExample(quantity=3, price=350)"
      ]
     },
     "execution_count": 229,
     "metadata": {},
     "output_type": "execute_result"
    }
   ],
   "source": [
    "rebuilt = ByteEncodedExample.decode(data.encode())\n",
    "rebuilt"
   ]
  }
 ],
 "metadata": {
  "kernelspec": {
   "display_name": "Python 3.10.5 64-bit",
   "language": "python",
   "name": "python3"
  },
  "language_info": {
   "codemirror_mode": {
    "name": "ipython",
    "version": 3
   },
   "file_extension": ".py",
   "mimetype": "text/x-python",
   "name": "python",
   "nbconvert_exporter": "python",
   "pygments_lexer": "ipython3",
   "version": "3.10.5"
  },
  "orig_nbformat": 4,
  "vscode": {
   "interpreter": {
    "hash": "aee8a4ff72e707aaad2012f8707441f813e53678a1a2473275a514209e35cd0c"
   }
  }
 },
 "nbformat": 4,
 "nbformat_minor": 2
}
