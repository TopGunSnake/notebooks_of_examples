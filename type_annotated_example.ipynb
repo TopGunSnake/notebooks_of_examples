{
 "cells": [
  {
   "cell_type": "markdown",
   "metadata": {},
   "source": [
    "First we'll create an example helper type."
   ]
  },
  {
   "cell_type": "code",
   "execution_count": 46,
   "metadata": {},
   "outputs": [
    {
     "data": {
      "text/plain": [
       "'101'"
      ]
     },
     "execution_count": 46,
     "metadata": {},
     "output_type": "execute_result"
    }
   ],
   "source": [
    "class BitEncoded:\n",
    "    \"\"\"Annotation Helper that tracks a bitwidth for an integer.\"\"\"\n",
    "\n",
    "    def __init__(self, bitwidth: int):\n",
    "        self.bitwidth = bitwidth\n",
    "\n",
    "    def encode(self, value: int) -> str:\n",
    "        \"\"\"Encodes the value as a signed integer of self.bitwidth size,\n",
    "        returning the binary representation as a string without the `0b` prefix\"\"\"\n",
    "        mask = 2**self.bitwidth - 1\n",
    "\n",
    "        lowbits = value & mask\n",
    "\n",
    "        return f\"{lowbits:b}\"\n",
    "\n",
    "    def __repr__(self):\n",
    "        return f\"BitEncoded({self.bitwidth})\"\n",
    "\n",
    "\n",
    "# An example\n",
    "BitEncoded(bitwidth=3).encode(5)\n"
   ]
  },
  {
   "cell_type": "markdown",
   "metadata": {},
   "source": [
    "Next, we'll build a dataclass that uses the helper type."
   ]
  },
  {
   "cell_type": "code",
   "execution_count": 47,
   "metadata": {},
   "outputs": [],
   "source": [
    "import dataclasses\n",
    "import typing\n",
    "\n",
    "\n",
    "@dataclasses.dataclass\n",
    "class ExampleDataclass:\n",
    "    quantity: typing.Annotated[int, BitEncoded(3)] = 0\n",
    "    price: typing.Annotated[int, BitEncoded(20)] = 0\n"
   ]
  },
  {
   "cell_type": "markdown",
   "metadata": {},
   "source": [
    "Given the use of `typing.Annotated`, we can add metadata beyond the type that type-checker are concerned about.\n",
    "\n",
    "We can access this metadata using `typing.get_type_hints`. By default, this only gives the type-checker metadata, but we can pass a flag to trigger the rest."
   ]
  },
  {
   "cell_type": "code",
   "execution_count": 48,
   "metadata": {},
   "outputs": [
    {
     "data": {
      "text/plain": [
       "{'quantity': int, 'price': int}"
      ]
     },
     "execution_count": 48,
     "metadata": {},
     "output_type": "execute_result"
    }
   ],
   "source": [
    "typing.get_type_hints(ExampleDataclass())\n"
   ]
  },
  {
   "cell_type": "code",
   "execution_count": 49,
   "metadata": {},
   "outputs": [
    {
     "data": {
      "text/plain": [
       "{'quantity': typing.Annotated[int, BitEncoded(3)],\n",
       " 'price': typing.Annotated[int, BitEncoded(20)]}"
      ]
     },
     "execution_count": 49,
     "metadata": {},
     "output_type": "execute_result"
    }
   ],
   "source": [
    "typing.get_type_hints(ExampleDataclass(), include_extras=True)\n"
   ]
  },
  {
   "cell_type": "markdown",
   "metadata": {},
   "source": [
    "Now, we can use this metadata at runtime."
   ]
  },
  {
   "cell_type": "code",
   "execution_count": 50,
   "metadata": {},
   "outputs": [
    {
     "data": {
      "text/plain": [
       "BitEncoded(20)"
      ]
     },
     "execution_count": 50,
     "metadata": {},
     "output_type": "execute_result"
    }
   ],
   "source": [
    "data = ExampleDataclass(quantity=3, price=350)\n",
    "annotation_map = typing.get_type_hints(data, include_extras=True)\n",
    "typing.get_args(annotation_map[\"price\"])[1]\n"
   ]
  },
  {
   "cell_type": "code",
   "execution_count": 51,
   "metadata": {},
   "outputs": [
    {
     "data": {
      "text/plain": [
       "{'quantity': BitEncoded(3), 'price': BitEncoded(20)}"
      ]
     },
     "execution_count": 51,
     "metadata": {},
     "output_type": "execute_result"
    }
   ],
   "source": [
    "data = ExampleDataclass(quantity=3, price=350)\n",
    "encoders = {\n",
    "    field: item\n",
    "    for field, annotation in typing.get_type_hints(data, include_extras=True).items()\n",
    "    for item in list(typing.get_args(annotation))\n",
    "    if isinstance(item, BitEncoded)\n",
    "}\n",
    "encoders\n"
   ]
  },
  {
   "cell_type": "markdown",
   "metadata": {},
   "source": [
    "With this in mind, we can easily define a concept like BitEncoded Dataclass"
   ]
  },
  {
   "cell_type": "code",
   "execution_count": 52,
   "metadata": {},
   "outputs": [
    {
     "data": {
      "text/plain": [
       "'11101011110'"
      ]
     },
     "execution_count": 52,
     "metadata": {},
     "output_type": "execute_result"
    }
   ],
   "source": [
    "@dataclasses.dataclass\n",
    "class BitEncodedExample:\n",
    "    quantity: typing.Annotated[int, BitEncoded(3)]\n",
    "    price: typing.Annotated[int, BitEncoded(20)]\n",
    "\n",
    "    def encode(self) -> str:\n",
    "        \"\"\"Encodes this instance into a binary string.\"\"\"\n",
    "        output = \"\"\n",
    "        # Get the dataclass fields by name and value.\n",
    "        field_dict = {\n",
    "            field.name: getattr(self, field.name) for field in dataclasses.fields(self)\n",
    "        }\n",
    "\n",
    "        # Get the encoders by name of field and encoder\n",
    "        encoders = {\n",
    "            field: item\n",
    "            for field, annotation in typing.get_type_hints(\n",
    "                data, include_extras=True\n",
    "            ).items()\n",
    "            for item in list(typing.get_args(annotation))\n",
    "            if isinstance(item, BitEncoded) and field in field_dict.keys()\n",
    "        }\n",
    "\n",
    "        for name, encoder in encoders.items():\n",
    "            value = field_dict[name]\n",
    "            output += encoder.encode(value)\n",
    "\n",
    "        return output\n",
    "\n",
    "\n",
    "# Example\n",
    "data = BitEncodedExample(quantity=3, price=350)\n",
    "data.encode()\n"
   ]
  }
 ],
 "metadata": {
  "kernelspec": {
   "display_name": "Python 3.10.5 64-bit",
   "language": "python",
   "name": "python3"
  },
  "language_info": {
   "codemirror_mode": {
    "name": "ipython",
    "version": 3
   },
   "file_extension": ".py",
   "mimetype": "text/x-python",
   "name": "python",
   "nbconvert_exporter": "python",
   "pygments_lexer": "ipython3",
   "version": "3.10.5"
  },
  "orig_nbformat": 4,
  "vscode": {
   "interpreter": {
    "hash": "aee8a4ff72e707aaad2012f8707441f813e53678a1a2473275a514209e35cd0c"
   }
  }
 },
 "nbformat": 4,
 "nbformat_minor": 2
}
