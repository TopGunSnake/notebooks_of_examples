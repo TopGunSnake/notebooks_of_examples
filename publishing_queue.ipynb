{
 "cells": [
  {
   "cell_type": "markdown",
   "metadata": {},
   "source": [
    "Python provides a few different implementations of a first-in-first-out (FIFO) queue,\n",
    "but most notable is `queue.Queue`."
   ]
  },
  {
   "cell_type": "code",
   "execution_count": 8,
   "metadata": {},
   "outputs": [
    {
     "data": {
      "text/plain": [
       "1"
      ]
     },
     "execution_count": 8,
     "metadata": {},
     "output_type": "execute_result"
    }
   ],
   "source": [
    "import queue\n",
    "\n",
    "q = queue.Queue()\n",
    "q.put(1)\n",
    "q.get()"
   ]
  },
  {
   "cell_type": "markdown",
   "metadata": {},
   "source": [
    "This queue is thread-safe, and therefore can be used in a multithreading context."
   ]
  },
  {
   "cell_type": "code",
   "execution_count": 9,
   "metadata": {},
   "outputs": [
    {
     "name": "stdout",
     "output_type": "stream",
     "text": [
      "Worker 1 is working on 0\n",
      "Worker 2 is working on 1\n",
      "Worker 1 is working on 2\n",
      "Worker 2 is working on 3\n",
      "Worker 1 is working on 4\n",
      "Worker 2 is working on 5\n",
      "Worker 1 is working on 6\n",
      "Worker 2 is working on 7\n",
      "Worker 1 is working on 8\n",
      "Worker 2 is working on 9\n",
      "Worker 2 is working on 10\n",
      "Worker 1 is working on 11\n",
      "Worker 2 is working on 12\n",
      "Worker 1 is working on 13\n",
      "Worker 1 is working on 14\n",
      "Worker 2 is working on 15\n",
      "Worker 1 is working on 16\n",
      "Worker 2 is working on 17\n",
      "Worker 2 is working on 18\n",
      "Worker 1 is working on 19\n",
      "Worker 2 is working on 20\n",
      "Worker 1 is working on 21\n",
      "Worker 2 is working on 22\n",
      "Worker 1 is working on 23\n",
      "Worker 1 is working on 24\n",
      "Worker 2 is working on 25\n",
      "Worker 2 is working on 26\n",
      "Worker 1 is working on 27\n",
      "Worker 1 is working on 28\n",
      "Worker 2 is working on 29\n",
      "All work complete\n"
     ]
    }
   ],
   "source": [
    "import threading\n",
    "import time\n",
    "q = queue.Queue()\n",
    "\n",
    "def worker(name: str, q: queue.Queue, stop, lock):\n",
    "    while True:\n",
    "        item = q.get()\n",
    "        with lock:\n",
    "            print(f\"{name} is working on {item}\", flush=True)\n",
    "        time.sleep(1.0) # Artificial delays\n",
    "        q.task_done()\n",
    "\n",
    "        if stop.is_set():\n",
    "            break\n",
    "\n",
    "stop = threading.Event()\n",
    "lock = threading.Lock()\n",
    "t1 = threading.Thread(target=worker, args=(\"Worker 1\", q, stop, lock))\n",
    "t2 = threading.Thread(target=worker, args=(\"Worker 2\", q, stop, lock))\n",
    "\n",
    "for item in range(30):\n",
    "    q.put(item)\n",
    "\n",
    "t1.start()\n",
    "t2.start()\n",
    "\n",
    "q.join()\n",
    "print(\"All work complete\")\n",
    "stop.set()\n"
   ]
  },
  {
   "cell_type": "markdown",
   "metadata": {},
   "source": [
    "It can be noted that the two worker threads share the data pushed to the queue. This is\n",
    "known as \"work-stealing\". It may be desired to have an alternative form, a queue that\n",
    "can support `get` calls for each worker so each worker shares the data instead.\n",
    "\n",
    "To implement this, we can reuse `queue.Queue` in a simple wrapper."
   ]
  },
  {
   "cell_type": "code",
   "execution_count": 11,
   "metadata": {},
   "outputs": [
    {
     "name": "stdout",
     "output_type": "stream",
     "text": [
      "Worker 1 is working on 0\n",
      "Worker 2 is working on 0\n",
      "Worker 1 is working on 1\n",
      "Worker 2 is working on 1\n",
      "Worker 1 is working on 2\n",
      "Worker 2 is working on 2\n",
      "Worker 1 is working on 3\n",
      "Worker 2 is working on 3\n",
      "Worker 1 is working on 4\n",
      "Worker 2 is working on 4\n",
      "Worker 1 is working on 5\n",
      "Worker 2 is working on 5\n",
      "Worker 1 is working on 6\n",
      "Worker 2 is working on 6\n",
      "Worker 1 is working on 7\n",
      "Worker 2 is working on 7\n",
      "Worker 1 is working on 8\n",
      "Worker 2 is working on 8\n",
      "Worker 1 is working on 9\n",
      "Worker 2 is working on 9\n",
      "Worker 1 is working on 10\n",
      "Worker 2 is working on 10\n",
      "Worker 1 is working on 11\n",
      "Worker 2 is working on 11\n",
      "Worker 1 is working on 12\n",
      "Worker 2 is working on 12\n",
      "Worker 1 is working on 13\n",
      "Worker 2 is working on 13\n",
      "Worker 1 is working on 14\n",
      "Worker 2 is working on 14\n",
      "Worker 1 is working on 15\n",
      "Worker 2 is working on 15\n",
      "Worker 1 is working on 16\n",
      "Worker 2 is working on 16\n",
      "Worker 1 is working on 17\n",
      "Worker 2 is working on 17\n",
      "Worker 1 is working on 18\n",
      "Worker 2 is working on 18\n",
      "Worker 1 is working on 19\n",
      "Worker 2 is working on 19\n",
      "Worker 1 is working on 20\n",
      "Worker 2 is working on 20\n",
      "Worker 1 is working on 21\n",
      "Worker 2 is working on 21\n",
      "Worker 1 is working on 22\n",
      "Worker 2 is working on 22\n",
      "Worker 1 is working on 23\n",
      "Worker 2 is working on 23\n",
      "Worker 1 is working on 24\n",
      "Worker 2 is working on 24\n",
      "Worker 1 is working on 25\n",
      "Worker 2 is working on 25\n",
      "Worker 1 is working on 26\n",
      "Worker 2 is working on 26\n",
      "Worker 1 is working on 27\n",
      "Worker 2 is working on 27\n",
      "Worker 1 is working on 28\n",
      "Worker 2 is working on 28\n",
      "Worker 1 is working on 29\n",
      "Worker 2 is working on 29\n",
      "All work complete\n"
     ]
    }
   ],
   "source": [
    "class PublishQueue:\n",
    "    \"\"\"A thread-safe multi-publisher, multi-consumer queue that supports work sharing.\"\"\"\n",
    "    def __init__(self):\n",
    "        self.queues = []\n",
    "    \n",
    "    def register(self) -> queue.Queue:\n",
    "        \"\"\"Adds a new consumer to this queue, returning a queue.Queue for `get` calls.\"\"\"\n",
    "        new_queue = queue.Queue()\n",
    "        self.queues.append(new_queue)\n",
    "        return new_queue\n",
    "\n",
    "    def publish(self, item):\n",
    "        \"\"\"Puts the item on each registered queue\"\"\"\n",
    "        for q in self.queues:\n",
    "            q.put(item)\n",
    "    \n",
    "    def join(self):\n",
    "        \"\"\"Joins each registered queue\"\"\"\n",
    "        for q in self.queues:\n",
    "            q.join()\n",
    "\n",
    "def worker(name: str, q: queue.Queue, stop, lock):\n",
    "    while True:\n",
    "        item = q.get()\n",
    "        with lock:\n",
    "            print(f\"{name} is working on {item}\", flush=True)\n",
    "        time.sleep(1.0) # Artificial delays\n",
    "        q.task_done()\n",
    "\n",
    "        if stop.is_set():\n",
    "            break\n",
    "        \n",
    "q = PublishQueue()\n",
    "stop = threading.Event()\n",
    "lock = threading.Lock()\n",
    "t1 = threading.Thread(target=worker, args=(\"Worker 1\", q.register(), stop, lock))\n",
    "t2 = threading.Thread(target=worker, args=(\"Worker 2\", q.register(), stop, lock))\n",
    "\n",
    "for item in range(30):\n",
    "    q.publish(item)\n",
    "\n",
    "t1.start()\n",
    "t2.start()\n",
    "\n",
    "q.join()\n",
    "print(\"All work complete\")\n",
    "stop.set()"
   ]
  },
  {
   "cell_type": "markdown",
   "metadata": {},
   "source": [
    "Now each worker gets their own queue, but it looks like a single queue from the calling\n",
    "thread. We can further improve the definition by adhering closer to the `queue.Queue`\n",
    "implementation."
   ]
  },
  {
   "cell_type": "code",
   "execution_count": 12,
   "metadata": {},
   "outputs": [],
   "source": [
    "class PublishQueue:\n",
    "    \"\"\"The send-side of a SPMC. The receive side is implemented via `register` and the\n",
    "    associated queue object.\"\"\"\n",
    "    def __init__(self):\n",
    "        self.queues = []\n",
    "    \n",
    "    def empty(self) -> bool:\n",
    "        \"\"\"Return `True` if all queues are empty, `False` otherwise.\"\"\"\n",
    "        return all([q.empty() for q in self.queues])\n",
    "    \n",
    "    def full(self) -> bool:\n",
    "        \"\"\"Return `True` if all queues are full, `False` otherwise.\"\"\"\n",
    "        return all([q.full() for q in self.queues])\n",
    "    \n",
    "    def put(self, item, block=True, timeout=None):\n",
    "        for q in self.queues:\n",
    "            q.put(item, block=block, timeout=timeout)\n",
    "    \n",
    "    def put_nowait(self, item):\n",
    "        for q in self.queues:\n",
    "            q.put_nowait(item)\n",
    "\n",
    "    # NOTE: No `get` or associated consumer-side functions.\n",
    "    def join(self):\n",
    "        for q in self.queues:\n",
    "            q.join()\n",
    "\n",
    "    def register(self, queue=None) -> queue.Queue:\n",
    "        \"\"\"Adds a new consumer to this queue, returning a queue.Queue or subclass for\n",
    "        `get` calls.\n",
    "        \n",
    "        Registers the `queue` if not `None`, otherwise initialize a new `queue.Queue`\n",
    "        with default size. `queue` must implement the functions of a `queue.Queue`\n",
    "        object, and be thread-safe.\n",
    "        \"\"\"\n",
    "        if queue is None:\n",
    "            queue = queue.Queue()\n",
    "        \n",
    "        self.queues.append(queue)\n",
    "        return queue"
   ]
  },
  {
   "cell_type": "markdown",
   "metadata": {},
   "source": [
    "Any variants, such as `PriorityQueue` and `LifoQueue` can be supplied via the register\n",
    "function, allowing for customizablility. This Single-Producer-Multi-Consumer with\n",
    "sharing can be used to implement a simplified publisher-subscriber system using polling."
   ]
  }
 ],
 "metadata": {
  "kernelspec": {
   "display_name": "Python 3.10.5 64-bit",
   "language": "python",
   "name": "python3"
  },
  "language_info": {
   "codemirror_mode": {
    "name": "ipython",
    "version": 3
   },
   "file_extension": ".py",
   "mimetype": "text/x-python",
   "name": "python",
   "nbconvert_exporter": "python",
   "pygments_lexer": "ipython3",
   "version": "3.10.5"
  },
  "orig_nbformat": 4,
  "vscode": {
   "interpreter": {
    "hash": "aee8a4ff72e707aaad2012f8707441f813e53678a1a2473275a514209e35cd0c"
   }
  }
 },
 "nbformat": 4,
 "nbformat_minor": 2
}
